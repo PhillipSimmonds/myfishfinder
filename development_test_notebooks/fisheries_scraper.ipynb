{
 "nbformat": 4,
 "nbformat_minor": 2,
 "metadata": {
  "language_info": {
   "name": "python",
   "codemirror_mode": {
    "name": "ipython",
    "version": 3
   },
   "version": "3.6.5-final"
  },
  "orig_nbformat": 2,
  "file_extension": ".py",
  "mimetype": "text/x-python",
  "name": "python",
  "npconvert_exporter": "python",
  "pygments_lexer": "ipython3",
  "version": 3,
  "kernelspec": {
   "name": "python36564bitanaconda3virtualenv4a9753acc21147dcb7edeb993ff518c0",
   "display_name": "Python 3.6.5 64-bit ('anaconda3': virtualenv)"
  }
 },
 "cells": [
  {
   "cell_type": "code",
   "execution_count": 1,
   "metadata": {},
   "outputs": [],
   "source": [
    "from bs4 import BeautifulSoup\n",
    "import pandas as pd\n",
    "import requests as req\n",
    "import datetime as dt\n",
    "import os"
   ]
  },
  {
   "cell_type": "code",
   "execution_count": 18,
   "metadata": {},
   "outputs": [
    {
     "output_type": "execute_result",
     "data": {
      "text/plain": "'/Users/phillipsimmonds/Desktop/Development/MyFishFinder'"
     },
     "metadata": {},
     "execution_count": 18
    }
   ],
   "source": []
  },
  {
   "cell_type": "code",
   "execution_count": 12,
   "metadata": {},
   "outputs": [],
   "source": [
    "columns = [\n",
    "    \"SpeciesCode\",\n",
    "    \"Name\",\n",
    "    \"ReportedCommCatch_kg\",\n",
    "    \"TACC_kg\",\n",
    "    \"CustAllow_kg\",\n",
    "    \"RecAllow_kg\",\n",
    "    \"TargetFishery\",\n",
    "    \"BycatchFishery\",\n",
    "    \"InQMS\",\n",
    "    \"Year\"\n",
    "]"
   ]
  },
  {
   "cell_type": "code",
   "execution_count": 13,
   "metadata": {
    "tags": [
     "outputPrepend"
    ]
   },
   "outputs": [],
   "source": [
    "year = dt.datetime.now().year\n",
    "data = []\n",
    "for i in range(2016,year+1):\n",
    "    rq = req.get(\"https://fs.fish.govt.nz/Page.aspx?pk=6&tk=97&ey={}\".format(i))\n",
    "    html = BeautifulSoup(rq.content)\n",
    "    for row in html.select(\"tr.ItemRow\"):\n",
    "        data.append([d.text.replace(\"\\n\",\"\").replace(\",\",\"\") for d in row.select(\"td\")] + [i])\n",
    "df = pd.DataFrame(data=data,columns=columns)"
   ]
  },
  {
   "cell_type": "code",
   "execution_count": null,
   "metadata": {},
   "outputs": [],
   "source": []
  }
 ]
}