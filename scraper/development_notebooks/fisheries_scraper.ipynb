{
 "nbformat": 4,
 "nbformat_minor": 2,
 "metadata": {
  "language_info": {
   "name": "python",
   "codemirror_mode": {
    "name": "ipython",
    "version": 3
   },
   "version": "3.6.5-final"
  },
  "orig_nbformat": 2,
  "file_extension": ".py",
  "mimetype": "text/x-python",
  "name": "python",
  "npconvert_exporter": "python",
  "pygments_lexer": "ipython3",
  "version": 3,
  "kernelspec": {
   "name": "python36564bitanaconda3virtualenv4a9753acc21147dcb7edeb993ff518c0",
   "display_name": "Python 3.6.5 64-bit ('anaconda3': virtualenv)"
  }
 },
 "cells": [
  {
   "cell_type": "code",
   "execution_count": 15,
   "metadata": {},
   "outputs": [],
   "source": [
    "from bs4 import BeautifulSoup\n",
    "import pandas as pd\n",
    "import requests as req\n",
    "import datetime as dt"
   ]
  },
  {
   "cell_type": "code",
   "execution_count": 46,
   "metadata": {},
   "outputs": [],
   "source": [
    "columns = [\n",
    "    \"SpeciesCode\",\n",
    "    \"Name\",\n",
    "    \"ReportedCommCatch_kg\",\n",
    "    \"TACC_kg\",\n",
    "    \"CustAllow_kg\",\n",
    "    \"RecAllow_kg\",\n",
    "    \"TargetFishery\",\n",
    "    \"BycatchFishery\",\n",
    "    \"InQMS\",\n",
    "    \"Year\"\n",
    "]"
   ]
  },
  {
   "cell_type": "code",
   "execution_count": 48,
   "metadata": {
    "tags": [
     "outputPrepend"
    ]
   },
   "outputs": [
    {
     "output_type": "execute_result",
     "data": {
      "text/plain": "    SpeciesCode                     Name ReportedCommCatch_kg   TACC_kg  \\\n351         BYX  Alfonsino & Long-fin...              2392462   2995700   \n339         STM           Striped marlin                                  \n294         MAK               Mako shark                27000    200000   \n87          SQU              Arrow squid             18462101  82120281   \n491        MDI!             Trough shell                         160000   \n54          GFL       Greenback flounder                                  \n350        CRA!  Spiny red rock lobst...              2498859   2800486   \n390         NEB       Brodie's king crab                                  \n481         BYD         Longfinned beryx                                  \n252         LES                 Lessonia                                  \n\n    CustAllow_kg RecAllow_kg TargetFishery BycatchFishery InQMS  Year  \n351         2000        2000           Yes            Yes   Yes  2020  \n339                                     No            Yes    No  2019  \n294        10000       30000            No            Yes   Yes  2019  \n87         10000       10000           Yes             No   Yes  2017  \n491            0           0                                Yes  2021  \n54                                                          Yes  2016  \n350       195500      332000           Yes             No   Yes  2020  \n390                                                         Yes  2020  \n481                                                         Yes  2021  \n252                                                          No  2018  ",
      "text/html": "<div>\n<style scoped>\n    .dataframe tbody tr th:only-of-type {\n        vertical-align: middle;\n    }\n\n    .dataframe tbody tr th {\n        vertical-align: top;\n    }\n\n    .dataframe thead th {\n        text-align: right;\n    }\n</style>\n<table border=\"1\" class=\"dataframe\">\n  <thead>\n    <tr style=\"text-align: right;\">\n      <th></th>\n      <th>SpeciesCode</th>\n      <th>Name</th>\n      <th>ReportedCommCatch_kg</th>\n      <th>TACC_kg</th>\n      <th>CustAllow_kg</th>\n      <th>RecAllow_kg</th>\n      <th>TargetFishery</th>\n      <th>BycatchFishery</th>\n      <th>InQMS</th>\n      <th>Year</th>\n    </tr>\n  </thead>\n  <tbody>\n    <tr>\n      <th>351</th>\n      <td>BYX</td>\n      <td>Alfonsino &amp; Long-fin...</td>\n      <td>2392462</td>\n      <td>2995700</td>\n      <td>2000</td>\n      <td>2000</td>\n      <td>Yes</td>\n      <td>Yes</td>\n      <td>Yes</td>\n      <td>2020</td>\n    </tr>\n    <tr>\n      <th>339</th>\n      <td>STM</td>\n      <td>Striped marlin</td>\n      <td></td>\n      <td></td>\n      <td></td>\n      <td></td>\n      <td>No</td>\n      <td>Yes</td>\n      <td>No</td>\n      <td>2019</td>\n    </tr>\n    <tr>\n      <th>294</th>\n      <td>MAK</td>\n      <td>Mako shark</td>\n      <td>27000</td>\n      <td>200000</td>\n      <td>10000</td>\n      <td>30000</td>\n      <td>No</td>\n      <td>Yes</td>\n      <td>Yes</td>\n      <td>2019</td>\n    </tr>\n    <tr>\n      <th>87</th>\n      <td>SQU</td>\n      <td>Arrow squid</td>\n      <td>18462101</td>\n      <td>82120281</td>\n      <td>10000</td>\n      <td>10000</td>\n      <td>Yes</td>\n      <td>No</td>\n      <td>Yes</td>\n      <td>2017</td>\n    </tr>\n    <tr>\n      <th>491</th>\n      <td>MDI!</td>\n      <td>Trough shell</td>\n      <td></td>\n      <td>160000</td>\n      <td>0</td>\n      <td>0</td>\n      <td></td>\n      <td></td>\n      <td>Yes</td>\n      <td>2021</td>\n    </tr>\n    <tr>\n      <th>54</th>\n      <td>GFL</td>\n      <td>Greenback flounder</td>\n      <td></td>\n      <td></td>\n      <td></td>\n      <td></td>\n      <td></td>\n      <td></td>\n      <td>Yes</td>\n      <td>2016</td>\n    </tr>\n    <tr>\n      <th>350</th>\n      <td>CRA!</td>\n      <td>Spiny red rock lobst...</td>\n      <td>2498859</td>\n      <td>2800486</td>\n      <td>195500</td>\n      <td>332000</td>\n      <td>Yes</td>\n      <td>No</td>\n      <td>Yes</td>\n      <td>2020</td>\n    </tr>\n    <tr>\n      <th>390</th>\n      <td>NEB</td>\n      <td>Brodie's king crab</td>\n      <td></td>\n      <td></td>\n      <td></td>\n      <td></td>\n      <td></td>\n      <td></td>\n      <td>Yes</td>\n      <td>2020</td>\n    </tr>\n    <tr>\n      <th>481</th>\n      <td>BYD</td>\n      <td>Longfinned beryx</td>\n      <td></td>\n      <td></td>\n      <td></td>\n      <td></td>\n      <td></td>\n      <td></td>\n      <td>Yes</td>\n      <td>2021</td>\n    </tr>\n    <tr>\n      <th>252</th>\n      <td>LES</td>\n      <td>Lessonia</td>\n      <td></td>\n      <td></td>\n      <td></td>\n      <td></td>\n      <td></td>\n      <td></td>\n      <td>No</td>\n      <td>2018</td>\n    </tr>\n  </tbody>\n</table>\n</div>"
     },
     "metadata": {},
     "execution_count": 48
    }
   ],
   "source": [
    "year = dt.datetime.now().year\n",
    "data = []\n",
    "for i in range(2016,year+1):\n",
    "    rq = req.get(\"https://fs.fish.govt.nz/Page.aspx?pk=6&tk=97&ey={}\".format(i))\n",
    "    html = BeautifulSoup(rq.content)\n",
    "    for row in html.select(\"tr.ItemRow\"):\n",
    "        data.append([d.text.replace(\"\\n\",\"\").replace(\",\",\"\") for d in row.select(\"td\")] + [i])\n",
    "df = pd.DataFrame(data=data,columns=columns)\n",
    "df.sample(10)\n",
    "    "
   ]
  },
  {
   "cell_type": "code",
   "execution_count": null,
   "metadata": {},
   "outputs": [],
   "source": []
  }
 ]
}